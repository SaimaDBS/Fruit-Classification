{
  "cells": [
    {
      "cell_type": "markdown",
      "metadata": {
        "id": "PDTohOhm5Hhs"
      },
      "source": [
        "# Fruit Classification using CNN\n"
      ]
    },
    {
      "cell_type": "markdown",
      "metadata": {
        "id": "0u-DMUrvBoMI"
      },
      "source": [
        "If you changed something in your drive after you did the drive.mount('/content/drive'), you have to remount it with drive.mount('/content/drive', force_remount=True). force_remount is used only when you have to mount the drive irrespective of whether its loaded previously."
      ]
    },
    {
      "cell_type": "code",
      "execution_count": null,
      "metadata": {
        "id": "sF3YDXyLZZ9w"
      },
      "outputs": [],
      "source": [
        "!pip install tensorflowjs"
      ]
    },
    {
      "cell_type": "code",
      "execution_count": null,
      "metadata": {
        "id": "owijJgpvZia_"
      },
      "outputs": [],
      "source": [
        ""
      ]
    },
    {
      "cell_type": "code",
      "execution_count": null,
      "metadata": {
        "colab": {
          "base_uri": "https://localhost:8080/"
        },
        "id": "zJ9YBhY1AOXq",
        "outputId": "e4dd946a-97f3-4723-afe3-d00d44cfd601"
      },
      "outputs": [
        {
          "name": "stdout",
          "output_type": "stream",
          "text": [
            "Mounted at /content/drive\n"
          ]
        }
      ],
      "source": [
        "from google.colab import drive\n",
        "drive.mount('/content/drive', force_remount=True)"
      ]
    },
    {
      "cell_type": "code",
      "execution_count": null,
      "metadata": {
        "id": "GmSVGiSJHIq-"
      },
      "outputs": [],
      "source": [
        "!unzip \"/content/drive/My Drive/fruits.zip\""
      ]
    },
    {
      "cell_type": "code",
      "execution_count": null,
      "metadata": {
        "id": "-z74FEWGHejo"
      },
      "outputs": [],
      "source": [
        "import cv2\n",
        "import numpy as np\n",
        "import os\n",
        "import tensorflowjs as tfjs"
      ]
    },
    {
      "cell_type": "code",
      "execution_count": null,
      "metadata": {
        "id": "0DRhK8JPHi5i"
      },
      "outputs": [],
      "source": [
        "trainingDataset = []\n",
        "classNumber = 0\n",
        "img_size = 100\n",
        "path = \"/content/drive/My Drive/fruitsData/Training\""
      ]
    },
    {
      "cell_type": "markdown",
      "metadata": {
        "id": "k6mM0bZnIbC8"
      },
      "source": [
        "The clear() method removes all items from the list."
      ]
    },
    {
      "cell_type": "code",
      "execution_count": null,
      "metadata": {
        "id": "0qXowcS4IPDx"
      },
      "outputs": [],
      "source": [
        "trainingDataset.clear()\n",
        "for folder in (os.listdir(path)):\n",
        "  print(classNumber)\n",
        "  fp = os.path.join(path,folder)\n",
        "  for eachImage in os.listdir(fp):\n",
        "    imagePath = os.path.join(fp,eachImage)\n",
        "    img = (cv2.imread(imagePath,cv2.IMREAD_GRAYSCALE))/255\n",
        "    trainingDataset.append([img,classNumber])\n",
        "  classNumber = classNumber + 1\n",
        "\n",
        "print(len(trainingDataset))\n",
        "print(len(trainingDataset[0]))\n",
        "print(trainingDataset[0])"
      ]
    },
    {
      "cell_type": "markdown",
      "metadata": {
        "id": "BvAwu4SLLKmC"
      },
      "source": [
        "Module 'time' is used to handle time-related tasks."
      ]
    },
    {
      "cell_type": "code",
      "execution_count": null,
      "metadata": {
        "id": "IP0SOCTHKp9h"
      },
      "outputs": [],
      "source": [
        "from tensorflow.keras.models import Sequential\n",
        "from tensorflow.keras.layers import Dense, Dropout, Activation, Flatten\n",
        "from tensorflow.keras.layers import Conv2D, MaxPooling2D\n",
        "from tensorflow.keras.callbacks import TensorBoard\n",
        "from tensorflow.keras.utils import to_categorical\n",
        "import pickle\n",
        "import time"
      ]
    },
    {
      "cell_type": "code",
      "execution_count": null,
      "metadata": {
        "colab": {
          "base_uri": "https://localhost:8080/"
        },
        "id": "Jqt89nsSIYYD",
        "outputId": "aedfe699-0c10-4eae-bbce-982950659831"
      },
      "outputs": [
        {
          "name": "stdout",
          "output_type": "stream",
          "text": [
            "[0, 2, 1, 1, 2, 2, 2, 0, 0, 1, 0, 1, 0, 0, 1, 2, 0, 0, 0, 0, 0, 2, 0, 0, 2, 0, 1, 2, 0, 2, 1, 2, 0, 1, 0, 1, 1, 1, 2, 2, 1, 0, 2, 2, 0, 0, 1, 2, 2, 1, 0, 1, 0, 0, 2, 0, 1, 0, 2, 0, 1, 2, 2, 0, 1, 0, 2, 2, 1, 1, 1, 1, 1, 1, 1, 1, 2, 1, 2, 1, 0, 2, 2, 1, 2, 0, 0, 2, 1, 0, 2, 0, 0, 2, 2, 2, 1, 0, 2, 1, 0, 2, 0, 1, 2, 1, 2, 2, 2, 0, 0, 0, 0, 0, 0, 1, 1, 1, 0, 1, 1, 2, 1, 2, 0, 1, 1, 0, 1, 0, 1, 2, 1, 0, 2, 0, 2, 1, 1, 0, 0, 0, 0, 2, 2, 2, 2, 0, 1, 2, 2, 2, 0, 0, 0, 1, 0, 2, 1, 0, 1, 0, 1, 1, 1, 2, 1, 2, 1, 2, 0, 0, 2, 0, 0, 2, 1, 1, 2, 0, 0, 2, 0, 1, 2, 1, 1, 2, 2, 2, 0, 0, 0, 1, 2, 1, 2, 0, 2, 0, 0, 0, 1, 2, 0, 1, 2, 0, 0, 0, 2, 1, 2, 2, 0, 0, 1, 0, 1, 2, 1, 0, 2, 0, 1, 1, 1, 2, 2, 2, 1, 2, 1, 1, 2, 2, 0, 1, 1, 1, 0, 2, 1, 2, 1, 1, 0, 0, 2, 1, 0, 1, 1, 2, 2, 2, 0, 0, 0, 1, 0, 1, 0, 0, 1, 0, 2, 2, 1, 2, 0, 1, 0, 2, 1, 0, 1, 2, 0, 1, 2, 2, 1, 1, 1, 1, 0, 2, 2, 0, 1, 1, 1, 1, 0, 1, 1, 1, 1, 0, 1, 2, 0, 0, 2, 0, 2, 0, 1, 1, 2, 1, 1, 0, 0, 2, 0, 1, 0, 2, 0, 0, 2, 2, 1, 0, 2, 1, 2, 2, 0, 0, 0, 1, 0, 1, 0, 1, 0, 1, 2, 1, 2, 2, 0, 1, 2, 0, 2, 1, 0, 2, 0, 0, 0, 1, 1, 1, 2, 0, 1, 0, 2, 1, 2, 2, 0, 1, 2, 2, 0, 0, 0, 0, 2, 2, 0, 1, 1, 1, 1, 0, 2, 1, 2, 1, 2, 1, 2, 2, 1, 0, 1, 0, 1, 2, 1, 2, 0, 0, 0, 1, 1, 1, 1, 2, 1, 1, 1, 0, 2, 2, 0, 1, 0, 2, 2, 0, 2, 0, 2, 2, 1, 1, 2, 0, 1, 2, 2, 2, 2, 1, 1, 1, 1, 0, 2, 2, 0, 2, 1, 2, 0, 1, 0, 2, 2, 1, 2, 0, 1, 2, 2, 0, 2, 1, 2, 1, 1, 1, 2, 1, 1, 2, 1, 2, 0, 0, 2, 1, 0, 0, 0, 0, 2, 2, 1, 1, 1, 0, 1, 2, 2, 2, 0, 2, 1, 0, 0, 2, 2, 1, 1, 0, 0, 1, 0, 1, 2, 0, 0, 1, 1, 1, 1, 2, 2, 0, 2, 2, 0, 1, 2, 0, 2, 2, 0, 0, 0, 2, 2, 2, 2, 0, 0, 0, 2, 0, 0, 2, 1, 1, 1, 0, 2, 0, 1, 0, 2, 2, 0, 1, 2, 1, 0, 1, 0, 1, 1, 1, 0, 1, 2, 1, 0, 2, 2, 2, 1, 1, 0, 0, 2, 0, 2, 2, 1, 1, 0, 1, 1, 2, 2, 0, 1, 2, 0, 0, 0, 1, 0, 0, 1, 0, 1, 1, 0, 2, 2, 0, 0, 1, 0, 0, 0, 1, 0, 1, 0, 0, 2, 0, 1, 1, 1, 2, 2, 1, 0, 1, 1, 1, 2, 2, 1, 0, 0, 2, 0, 2, 0, 1, 2, 2, 2, 0, 1, 0, 0, 1, 0, 0, 1, 2, 1, 0, 0, 0, 1, 2, 0, 1, 0, 2, 2, 1, 2, 2, 2, 0, 2, 2, 2, 1, 0, 1, 0, 0, 0, 1, 1, 0, 2, 0, 0, 1, 1, 1, 1, 2, 2, 2, 2, 1, 0, 0, 2, 0, 2, 0, 2, 2, 2, 0, 0, 0, 2, 2, 0, 0, 1, 0, 1, 2, 0, 0, 0, 2, 0, 2, 2, 1, 1, 1, 0, 0, 1, 2, 2, 2, 2, 1, 2, 2, 1, 2, 1, 1, 2, 0, 0, 0, 0, 1, 2, 0, 0, 2, 1, 1, 0, 1, 1, 1, 2, 0, 1, 1, 0, 0, 2, 2, 0, 0, 2, 0, 0, 2, 0, 1, 2, 1, 2, 1, 2, 2, 0, 2, 1, 0, 1, 1, 2, 0, 1, 2, 1, 2, 1, 2, 2, 1, 2, 2, 1, 1, 1, 2, 0, 0, 1, 1, 1, 2, 2, 2, 2, 2, 0, 1, 1, 1, 1, 1, 0, 1, 0, 0, 0, 0, 0, 1, 1, 0, 1, 0, 0, 2, 1, 2, 0, 1, 2, 2, 1, 0, 1, 2, 2, 0, 1, 1, 0, 2, 1, 2, 0, 1, 2, 1, 1, 2, 0, 2, 1, 2, 2, 1, 0, 0, 0, 1, 1, 0, 0, 1, 0, 0, 0, 1, 2, 0, 0, 1, 2, 1, 1, 2, 2, 2, 2, 2, 2, 2, 1, 0, 0, 0, 1, 0, 2, 1, 2, 2, 1, 2, 1, 1, 0, 1, 0, 2, 2, 0, 0, 0, 1, 2, 0, 2, 1, 0, 0, 2, 1, 1, 1, 1, 2, 2, 1, 0, 0, 2, 1, 2, 0, 2, 2, 1, 0, 0, 2, 1, 1, 2, 0, 1, 0, 1, 1, 0, 1, 1, 2, 0, 1, 2, 2, 2, 2, 0, 1, 0, 1, 0, 2, 2, 0, 2, 1, 1, 1, 1, 1, 0, 2, 0, 2, 2, 1, 0, 0, 2, 0, 1, 2, 1, 1, 2, 0, 2, 2, 1, 2, 1, 1, 1, 1, 1, 1, 1, 2, 1, 0, 2, 1, 0, 0, 0, 1, 2, 1, 1, 0, 0, 2, 0, 2, 1, 0, 2, 2, 1, 0, 2, 2, 2, 2, 2, 1, 0, 1, 1, 0, 0, 0, 1, 1, 2, 2, 2, 2, 0, 2, 0, 0, 1, 1, 0, 1, 0, 0, 0, 1, 2, 0, 2, 0, 0, 0, 2, 2, 1, 2, 1, 0, 1, 2, 2, 1, 2, 0, 1, 1, 1, 2, 2, 2, 1, 1, 1, 0, 1, 0, 0, 0, 1, 1, 2, 1, 1, 2, 0, 2, 2, 1, 1, 2, 2, 0, 0, 0, 1, 1, 0, 1, 0, 1, 0, 2, 1, 0, 0, 0, 2, 0, 2, 2, 1, 2, 1, 2, 1, 2, 2, 2, 0, 0, 1, 1, 0, 0, 2, 0, 0, 0, 0, 1, 0, 2, 1, 0, 0, 0, 0, 0, 2, 0, 0, 0, 2, 0, 2, 2, 1, 1, 0, 0, 1, 0, 2, 2, 2, 0, 2, 2, 0, 1, 0, 0, 2, 0, 0, 1, 1, 0, 2, 0, 0, 1, 0, 0, 1, 0, 1, 2, 2, 0, 0, 1, 2, 2, 2, 2, 0, 2, 2, 2, 2, 1, 0, 2, 2, 1, 1, 0, 1, 1, 2, 2, 1, 2, 1, 2, 1, 2, 2, 0, 1, 0, 1, 2, 0, 2, 1, 1, 2, 0, 1, 2, 2, 0, 1, 1, 2, 1, 2, 2, 0, 0, 1, 0, 1, 0, 2, 2, 0, 0, 0, 0, 1, 0, 0, 2, 0, 2, 2, 0, 1, 1, 1, 0, 1, 2, 2, 1, 1, 1, 0, 0, 2, 2, 0, 1, 1, 2, 1, 1, 1, 2, 1, 2, 1, 2, 0, 0, 1, 0, 1, 2, 1, 0, 2, 1, 2, 0, 1, 1, 1, 2, 2, 2, 2, 0, 1, 2, 0, 2, 2, 0, 1, 0, 1, 0, 0, 2, 0, 2, 0, 0, 1, 0, 2, 2, 1, 0, 1, 1, 1, 1, 0, 2, 0, 2, 2, 2, 2, 2, 2, 1, 0, 2, 2, 2, 0, 1, 0, 2, 2, 2, 0, 0, 0, 1, 0, 1, 2, 2, 2, 2, 0, 1, 0, 2, 2, 1, 2, 1, 0, 0, 0, 1, 2, 2, 2, 0, 0, 1, 1, 2, 2, 0, 2, 2, 0, 0, 0, 2, 2, 2, 2, 0, 1, 2, 2, 1, 2, 1, 2, 1, 1, 1, 2, 1, 2, 0, 0, 0, 1, 1, 2, 2, 2, 1, 2, 1, 1, 0, 1, 2, 0, 2, 1, 2, 2, 1, 2, 1, 1, 2, 1, 2, 1, 1, 0, 1, 1, 0, 0, 2, 1, 2, 1, 1, 2, 2, 0, 1, 0, 0, 0, 1, 2, 0, 0, 1, 1, 1, 2, 0, 0, 2, 0, 2, 0, 0, 2, 1, 1, 0, 2, 0, 0, 1, 2, 1, 1, 1, 0, 0, 1, 2, 2, 1, 0, 2, 1, 1, 0, 1, 1, 2, 2, 1, 0, 0, 1, 0, 2, 1, 0]\n"
          ]
        }
      ],
      "source": [
        "X = []\n",
        "Y = []\n",
        "img_size = 100\n",
        "np.random.shuffle(trainingDataset)\n",
        "for features, label in trainingDataset:\n",
        "    X.append(features)\n",
        "    Y.append(label)\n",
        "print(Y)    "
      ]
    },
    {
      "cell_type": "code",
      "execution_count": null,
      "metadata": {
        "colab": {
          "base_uri": "https://localhost:8080/"
        },
        "id": "tjfvytzllzeH",
        "outputId": "affc5a24-4879-481c-8317-c82a7c2a6622"
      },
      "outputs": [
        {
          "name": "stdout",
          "output_type": "stream",
          "text": [
            "[[1. 0. 0.]\n",
            " [0. 0. 1.]\n",
            " [0. 1. 0.]\n",
            " ...\n",
            " [0. 0. 1.]\n",
            " [0. 1. 0.]\n",
            " [1. 0. 0.]]\n"
          ]
        }
      ],
      "source": [
        "X = np.array(X).reshape(-1, img_size, img_size, 1)\n",
        "Y_binary = to_categorical(Y)\n",
        "print(Y_binary)"
      ]
    },
    {
      "cell_type": "markdown",
      "metadata": {
        "id": "ZYHOsbtJmsII"
      },
      "source": [
        "**Overfitting:** Good performance on the training data, poor generliazation to other data. <br>\n",
        "**Underfitting:** Poor performance on the training data and poor generalization to other data."
      ]
    },
    {
      "cell_type": "markdown",
      "metadata": {
        "id": "AkkP2GTKm8Ql"
      },
      "source": [
        "**Dropout** is a technique where randomly selected neurons are ignored during training. They are “dropped-out” randomly. This means that their contribution to the activation of downstream neurons is temporally removed on the forward pass and any weight updates are not applied to the neuron on the backward pass.<br>\n",
        "(Dropout(0.3) means setting 30% inputs to zero."
      ]
    },
    {
      "cell_type": "code",
      "execution_count": null,
      "metadata": {
        "id": "BnUexJx_mFTp"
      },
      "outputs": [],
      "source": [
        "model = Sequential()\n",
        "\n",
        "model.add(Conv2D(40, (3, 3), input_shape=(100,100,1)))\n",
        "model.add(Activation('relu'))\n",
        "model.add(MaxPooling2D(pool_size=(2, 2)))\n",
        "model.add(Dropout(0.3))\n",
        "\n",
        "model.add(Conv2D(60, (3, 3)))\n",
        "model.add(Activation('relu'))\n",
        "model.add(MaxPooling2D(pool_size=(2, 2)))\n",
        "model.add(Dropout(0.3))\n",
        "\n",
        "model.add(Conv2D(80, (3, 3)))\n",
        "model.add(Activation('relu'))\n",
        "model.add(MaxPooling2D(pool_size=(2, 2)))\n",
        "model.add(Dropout(0.3))\n",
        "\n",
        "model.add(Flatten())\n",
        "\n",
        "model.add(Dense(100))\n",
        "model.add(Activation('relu'))\n",
        " \n",
        "model.add(Dense(3))\n",
        "model.add(Activation('softmax'))"
      ]
    },
    {
      "cell_type": "markdown",
      "metadata": {
        "id": "vrtfZC17oEgD"
      },
      "source": [
        "TensorBoard is a tool/dashboard for providing the measurements and visualizations needed during the machine learning workflow."
      ]
    },
    {
      "cell_type": "code",
      "execution_count": null,
      "metadata": {
        "id": "tbnpxmYqnqHU"
      },
      "outputs": [],
      "source": [
        "# NAME = \"3-conv-128-layer-dense-1-out-2-softmax-categorical-cross-2-CNN\"\n",
        "# tensorboard = TensorBoard(log_dir=\"/content/drive/My Drive/fruitsData/Logs/{}\".format(NAME))\n",
        "\n",
        "model.compile(loss='categorical_crossentropy',\n",
        "              optimizer='adam',\n",
        "              metrics=['accuracy'],\n",
        "              )"
      ]
    },
    {
      "cell_type": "markdown",
      "metadata": {
        "id": "oEVCAh1Vu5E6"
      },
      "source": [
        "---- batch_size = 32 <br>\n",
        "---- validation_split = 0.3"
      ]
    },
    {
      "cell_type": "code",
      "execution_count": null,
      "metadata": {
        "colab": {
          "base_uri": "https://localhost:8080/"
        },
        "id": "vKTEcxuToS2x",
        "outputId": "995563df-84a4-40a1-d47f-d8170080ea69"
      },
      "outputs": [
        {
          "name": "stdout",
          "output_type": "stream",
          "text": [
            "Epoch 1/10\n",
            "33/33 [==============================] - 18s 516ms/step - loss: 0.4219 - accuracy: 0.8388 - val_loss: 0.0245 - val_accuracy: 0.9977\n",
            "Epoch 2/10\n",
            "33/33 [==============================] - 17s 509ms/step - loss: 0.0296 - accuracy: 0.9883 - val_loss: 0.0311 - val_accuracy: 0.9955\n",
            "Epoch 3/10\n",
            "33/33 [==============================] - 17s 512ms/step - loss: 0.0286 - accuracy: 0.9854 - val_loss: 0.0244 - val_accuracy: 1.0000\n",
            "Epoch 4/10\n",
            "33/33 [==============================] - 17s 507ms/step - loss: 0.0019 - accuracy: 1.0000 - val_loss: 0.0018 - val_accuracy: 1.0000\n",
            "Epoch 5/10\n",
            "33/33 [==============================] - 17s 506ms/step - loss: 4.8023e-04 - accuracy: 1.0000 - val_loss: 9.3560e-04 - val_accuracy: 1.0000\n",
            "Epoch 6/10\n",
            "33/33 [==============================] - 17s 505ms/step - loss: 5.1631e-04 - accuracy: 1.0000 - val_loss: 6.3623e-04 - val_accuracy: 1.0000\n",
            "Epoch 7/10\n",
            "33/33 [==============================] - 17s 513ms/step - loss: 0.0029 - accuracy: 0.9981 - val_loss: 0.0043 - val_accuracy: 1.0000\n",
            "Epoch 8/10\n",
            "33/33 [==============================] - 17s 507ms/step - loss: 0.0032 - accuracy: 0.9990 - val_loss: 0.0020 - val_accuracy: 1.0000\n",
            "Epoch 9/10\n",
            "33/33 [==============================] - 17s 509ms/step - loss: 4.0047e-04 - accuracy: 1.0000 - val_loss: 3.7917e-04 - val_accuracy: 1.0000\n",
            "Epoch 10/10\n",
            "33/33 [==============================] - 17s 503ms/step - loss: 2.2284e-04 - accuracy: 1.0000 - val_loss: 2.6613e-04 - val_accuracy: 1.0000\n",
            "INFO:tensorflow:Assets written to: /content/fruits-360_dataset/fruits-360/Models/{NAME}.model/assets\n"
          ]
        }
      ],
      "source": [
        "model.fit(X, Y_binary,\n",
        "          batch_size = 32,\n",
        "          epochs=10, validation_split = 0.3)\n",
        " \n",
        "model.save(\"/content/fruits-360_dataset/fruits-360/Models/{NAME}.model\")"
      ]
    },
    {
      "cell_type": "markdown",
      "metadata": {
        "id": "UoAavghgxvyE"
      },
      "source": [
        "prepare() function prepares a test image according to the NN architecture"
      ]
    },
    {
      "cell_type": "code",
      "execution_count": null,
      "metadata": {
        "id": "lIft5X7dvpdW"
      },
      "outputs": [],
      "source": [
        "def prepare(filepath):\n",
        "    img_size = 100 \n",
        "    img = cv2.imread(filepath, cv2.IMREAD_GRAYSCALE)/255  \n",
        "    img_resize = cv2.resize(img, (img_size, img_size))  \n",
        "    return img_resize.reshape(-1, img_size, img_size, 1)"
      ]
    },
    {
      "cell_type": "markdown",
      "metadata": {
        "id": "oMN6xSfKxrRA"
      },
      "source": [
        "The numpy.argmax() function returns index of the max element of the array"
      ]
    },
    {
      "cell_type": "code",
      "execution_count": null,
      "metadata": {
        "colab": {
          "background_save": true,
          "base_uri": "https://localhost:8080/"
        },
        "id": "52LgUP_5vwOT",
        "outputId": "6e581151-c5b0-4514-bf61-26f374f240e1"
      },
      "outputs": [
        {
          "name": "stdout",
          "output_type": "stream",
          "text": [
            "[[1.6759678e-06 2.8162238e-11 9.9999833e-01]]\n",
            "Cocos\n"
          ]
        }
      ],
      "source": [
        "prediction = model.predict(prepare(\"/content/drive/My Drive/fruitsData/Test/Cocos/6_100.jpg\"))\n",
        "print((prediction))\n",
        "\n",
        "CATEGORIES = [\"Apple Braeburn\", \"Banana\", \"Cocos\"]\n",
        "\n",
        "pred_class = CATEGORIES[np.argmax(prediction)]\n",
        "print(pred_class)\n",
        "\n"
      ]
    },
    {
      "cell_type": "code",
      "execution_count": null,
      "metadata": {
        "id": "UYfuk7vojSRZ"
      },
      "outputs": [],
      "source": [
        ""
      ]
    }
  ],
  "metadata": {
    "colab": {
      "name": "CNN Classification.ipynb",
      "provenance": [],
      "collapsed_sections": []
    },
    "kernelspec": {
      "display_name": "Python 3",
      "name": "python3"
    }
  },
  "nbformat": 4,
  "nbformat_minor": 0
}